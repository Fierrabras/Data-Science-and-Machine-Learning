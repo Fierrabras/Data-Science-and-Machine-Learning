{
 "cells": [
  {
   "cell_type": "markdown",
   "metadata": {},
   "source": [
    "# Data Science and Machine Learning: Outline of the study notes"
   ]
  },
  {
   "cell_type": "markdown",
   "metadata": {},
   "source": [
    "Hi and welcome to my GitHub account. My name is Álvaro and I am a fresh M. Sc. graduate in physics from Heidelberg University, Germany. In this series of Jupyter Notebooks I intend to keep an account of my path to mastering Data Science and Machine Learning techniques. My intention is to summarize and digest the fundamental theoretical results I encounter by illustrating these with neat little examples and snippets of code. Further down the road, I would like to complete these study notes with fully developed application examples I come up with."
   ]
  },
  {
   "cell_type": "markdown",
   "metadata": {},
   "source": [
    "## Study materials\n",
    "The following section lists the study materials I have followed so far, as well as other resources I plan on tackling as I advance in my studies. It will be continually updated as I go along. Please feel free to suggest additional materials.\n",
    "### Books\n",
    " - Behnke, O., Kröninger, K., Schott, G., & Schörner-Sadenius, T. (Eds.). (2013). **Data analysis in high energy physics: a practical guide to statistical methods. John Wiley & Sons.**\n",
    " - Bishop, C. M. (2010). **Pattern recognition and machine learning**; 2nd printing. Published by Springer, New York, ISBN, 10, 0387310738.\n",
    " \n",
    "### Online content\n",
    "#### Lecture notes\n",
    " - Flammarion, N., Jaggi, M. **Machine Learning CS-433** [Lecture notes]. École Polytechnique Fédérale de Lausanne. \n",
    "\n",
    "#### MOOCs on Machine and Deep Learning\n",
    " - Ng, A. **Machine Learning** [MOOC]. Coursera.\n",
    " - Ng, A., Katanforoosh, K., Mourri, Y. B. **Deep Learning Specialization** [MOOC]. Coursera.\n",
    " - Sokolov, E. et al. **Advanced Machine Learning Specialization** [MOOC]. Coursera.\n",
    "\n",
    "#### MOOCs on computational tools, resources and frameworks\n",
    " - Hagmann, A. **The Complete Pandas Bootcamp 2022: Data Science with Python** [MOOC]. Udemy.\n",
    " - Neagoie, A., Bourke, D. **TensorFlow Developer Certificate in 2022: Zero to Mastery** [MOOC]. Udemy.\n",
    " - Data Science Academy. **The Complete Supervised Machine Learning Models in Python** [MOOC]. Udemy.\n",
    " \n",
    "### Interesting papers\n",
    "#### Literature on pure Data Science and Machine Learning\n",
    "Yet to list any.\n",
    "\n",
    "#### Physics-related literature\n",
    " - Ho, D. L. J., & Rajantie, A. (2021). **Instanton solution for Schwinger production of't Hooft-Polyakov monopoles**. arXiv preprint arXiv:2103.12799.\n",
    " \n",
    " This paper uses the TensorFlow framework in order to obtain solutions to highly non-trivial and non-linear problems in quantum field theory (monopoles and sphalerons). A package was developed and made available at https://github.com/davidho95/tfmonopoles.\n",
    " \n",
    "#### Music-relared literature \n",
    " - Jellouli, A., Mezghani, A., & Hadidane, K. **Music Beyond Major and Minor: Visualization and Transposition Invariant Clustering of Musical Pieces**.\n"
   ]
  },
  {
   "cell_type": "code",
   "execution_count": null,
   "metadata": {},
   "outputs": [],
   "source": []
  }
 ],
 "metadata": {
  "kernelspec": {
   "display_name": "Python 3",
   "language": "python",
   "name": "python3"
  },
  "language_info": {
   "codemirror_mode": {
    "name": "ipython",
    "version": 3
   },
   "file_extension": ".py",
   "mimetype": "text/x-python",
   "name": "python",
   "nbconvert_exporter": "python",
   "pygments_lexer": "ipython3",
   "version": "3.6.5"
  }
 },
 "nbformat": 4,
 "nbformat_minor": 2
}
